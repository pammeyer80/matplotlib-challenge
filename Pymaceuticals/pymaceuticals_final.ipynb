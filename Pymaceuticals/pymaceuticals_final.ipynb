{
 "cells": [
  {
   "cell_type": "markdown",
   "metadata": {},
   "source": [
    "## Observations\n",
    "\n",
    "1. Looking at \"Capomulin Regimen: s185 Average Tumor Volume VS. Timepoint\", over time this drug regimen has decreased the tumor volume in mouse id s185. This suggests the drug Capomulin is successfully treating the tumor.\n",
    "\n",
    "2. Looking at \"Final Tumor Volumes Across Four Drug Regimens\", Ramicane and Capomulin have smaller tumor volumes at the final timepoint, which suggests these drug regimens were more effective than the others.\n",
    "\n",
    "3. Looking at the \"Capomulin Regimen Average Tumor Volume VS. Mouse Weight\" linear regression, as weight increases tumor volume is likely to increase. The correlation coefficient of .84 supports this strong relationship."
   ]
  },
  {
   "cell_type": "code",
   "execution_count": null,
   "metadata": {},
   "outputs": [],
   "source": [
    "# Dependencies and Setup\n",
    "import matplotlib.pyplot as plt\n",
    "import pandas as pd\n",
    "import scipy.stats as st\n",
    "\n",
    "# Study data files\n",
    "mouse_metadata_path = \"data/Mouse_metadata.csv\"\n",
    "study_results_path = \"data/Study_results.csv\"\n",
    "\n",
    "# Read the mouse data and the study results\n",
    "mouse_metadata = pd.read_csv(mouse_metadata_path)\n",
    "study_results = pd.read_csv(study_results_path)\n",
    "\n",
    "# Combine the data into a single dataset\n",
    "mouse_results_df = pd.merge(mouse_metadata, study_results, how=\"left\", on=[\"Mouse ID\", \"Mouse ID\"])"
   ]
  },
  {
   "cell_type": "markdown",
   "metadata": {},
   "source": [
    "## Data Preview"
   ]
  },
  {
   "cell_type": "code",
   "execution_count": null,
   "metadata": {},
   "outputs": [],
   "source": [
    "# Display the data table for preview\n",
    "mouse_results_df.head()"
   ]
  },
  {
   "cell_type": "markdown",
   "metadata": {},
   "source": [
    "## Data Cleansing"
   ]
  },
  {
   "cell_type": "code",
   "execution_count": null,
   "metadata": {},
   "outputs": [],
   "source": [
    "# Checking the number of mice.\n",
    "mouse_results_df[\"Mouse ID\"].nunique()"
   ]
  },
  {
   "cell_type": "code",
   "execution_count": null,
   "metadata": {},
   "outputs": [],
   "source": [
    "# Getting the duplicate mice by ID number that shows up for Mouse ID and Timepoint. \n",
    "mouse_group_df = mouse_results_df.groupby([\"Mouse ID\", \"Timepoint\"]).count()\n",
    "mouse_group_df = mouse_group_df.loc[mouse_group_df[\"Drug Regimen\"]>1, :]\n",
    "mouse_group_df = mouse_group_df.reset_index()\n",
    "\n",
    "mouseid_todrop = mouse_group_df[\"Mouse ID\"].unique()[0]\n",
    "\n",
    "mouseid_todrop "
   ]
  },
  {
   "cell_type": "code",
   "execution_count": null,
   "metadata": {},
   "outputs": [],
   "source": [
    "# Get all the data for the duplicate mouse ID. \n",
    "mouse_results_df.loc[mouse_results_df[\"Mouse ID\"]==mouseid_todrop, :]\n",
    "\n"
   ]
  },
  {
   "cell_type": "code",
   "execution_count": null,
   "metadata": {},
   "outputs": [],
   "source": [
    "# Create a clean DataFrame by dropping the duplicate mouse by its ID.\n",
    "indexes_to_drop = mouse_results_df[mouse_results_df[\"Mouse ID\"]==mouseid_todrop].index\n",
    "\n",
    "mouse_results_df.drop(indexes_to_drop, inplace=True)\n",
    "mouse_results_df"
   ]
  },
  {
   "cell_type": "code",
   "execution_count": null,
   "metadata": {},
   "outputs": [],
   "source": [
    "# Checking the number of mice in the clean DataFrame.\n",
    "\n",
    "mouse_results_df[\"Mouse ID\"].nunique()"
   ]
  },
  {
   "cell_type": "markdown",
   "metadata": {},
   "source": [
    "## Summary Statistics"
   ]
  },
  {
   "cell_type": "code",
   "execution_count": null,
   "metadata": {},
   "outputs": [],
   "source": [
    "# Generate a summary statistics table of mean, median, variance, standard deviation, and SEM of the tumor volume for each regimen\n",
    "\n",
    "# Use groupby and summary statistical methods to calculate the following properties of each drug regimen: \n",
    "# mean, median, variance, standard deviation, and SEM of the tumor volume. \n",
    "# Assemble the resulting series into a single summary dataframe.\n",
    "\n",
    "mouse_group = mouse_results_df.groupby([\"Drug Regimen\"])\n",
    "\n",
    "\n",
    "#Find the mean tumor volume for each regimen\n",
    "mouse_mean_df = pd.DataFrame(mouse_group[\"Tumor Volume (mm3)\"].mean())\n",
    "mouse_mean_df = mouse_mean_df.rename(columns={\"Tumor Volume (mm3)\": \"Tumor Volume Mean\"})\n",
    "mouse_mean_df = mouse_mean_df.reset_index()\n",
    "\n",
    "#Find the median tumor volume for each regimen\n",
    "mouse_median_df = pd.DataFrame(mouse_group[\"Tumor Volume (mm3)\"].median())\n",
    "mouse_median_df = mouse_median_df.rename(columns={\"Tumor Volume (mm3)\": \"Tumor Volume Median\"})\n",
    "mouse_median_df = mouse_median_df.reset_index()\n",
    "\n",
    "#Find the variance tumor volume for each regimen\n",
    "mouse_variance_df = pd.DataFrame(mouse_group[\"Tumor Volume (mm3)\"].var())\n",
    "mouse_variance_df = mouse_variance_df.rename(columns={\"Tumor Volume (mm3)\": \"Tumor Volume Variance\"})\n",
    "mouse_variance_df = mouse_variance_df.reset_index()\n",
    "\n",
    "#Find the standard deviation tumor volume for regimen\n",
    "mouse_stdev_df = pd.DataFrame(mouse_group[\"Tumor Volume (mm3)\"].std())\n",
    "mouse_stdev_df = mouse_stdev_df.rename(columns={\"Tumor Volume (mm3)\": \"Tumor Volume Standard Deviation\"})\n",
    "mouse_stdev_df = mouse_stdev_df.reset_index()\n",
    "\n",
    "\n",
    "#Find the SEM tumor volume for each regimen\n",
    "mouse_sem_df = pd.DataFrame(mouse_group[\"Tumor Volume (mm3)\"].sem())\n",
    "mouse_sem_df = mouse_sem_df.rename(columns={\"Tumor Volume (mm3)\": \"Tumor Volume SEM\"})\n",
    "mouse_sem_df = mouse_sem_df.reset_index()\n",
    "\n",
    "summary_df = mouse_mean_df.merge(mouse_median_df, how=\"outer\", on=\"Drug Regimen\")\n",
    "summary_df = summary_df.merge(mouse_variance_df, how=\"outer\", on=\"Drug Regimen\")\n",
    "summary_df = summary_df.merge(mouse_stdev_df, how=\"outer\", on=\"Drug Regimen\")\n",
    "summary_df = summary_df.merge(mouse_sem_df, how=\"outer\", on=\"Drug Regimen\")\n",
    "\n",
    "\n",
    "summary_df = summary_df.set_index(\"Drug Regimen\")\n",
    "summary_df"
   ]
  },
  {
   "cell_type": "markdown",
   "metadata": {},
   "source": [
    "## Bar and Pie Charts"
   ]
  },
  {
   "cell_type": "code",
   "execution_count": null,
   "metadata": {},
   "outputs": [],
   "source": [
    "# Generate a bar plot showing the total number of measurements taken on each drug regimen using pandas.\n",
    "drug_counts_df = pd.DataFrame(mouse_results_df[\"Drug Regimen\"].value_counts())\n",
    "\n",
    "drug_counts_df.plot(kind=\"bar\", color=\"r\", alpha=0.5, align=\"center\", legend=False, width=.5)\n",
    "\n",
    "plt.title(\"Measurements per Drug Regimen\")\n",
    "plt.ylabel(\"Amount of Measurements Taken\")\n",
    "plt.xlabel(\"Drug Regimen\")\n",
    "plt.tight_layout()\n",
    "plt.show()"
   ]
  },
  {
   "cell_type": "code",
   "execution_count": null,
   "metadata": {},
   "outputs": [],
   "source": [
    "# Generate a bar plot showing the total number of measurements taken on each drug regimen using pyplot.\n",
    "x_axis = drug_counts_df.index\n",
    "\n",
    "plt.bar(x_axis, drug_counts_df[\"Drug Regimen\"], color=\"r\", alpha=0.5, align = \"center\", width=.5)\n",
    "\n",
    "plt.title(\"Measurements per Drug Regimen\")\n",
    "plt.xticks(rotation=\"vertical\")\n",
    "plt.ylabel(\"Amount of Measurements Taken\")\n",
    "plt.xlabel(\"Drug Regimen\")\n",
    "plt.tight_layout()\n",
    "plt.show()"
   ]
  },
  {
   "cell_type": "code",
   "execution_count": null,
   "metadata": {},
   "outputs": [],
   "source": [
    "# Generate a pie plot showing the distribution of female versus male mice using pandas\n",
    "gender_df = pd.DataFrame(mouse_results_df[\"Sex\"].value_counts())\n",
    "colors = [\"lightskyblue\", \"lightcoral\"]\n",
    "explode = (0.1, 0)\n",
    "\n",
    "gender_df.plot(kind=\"pie\", y=\"Sex\", explode=explode, colors=colors, autopct=\"%1.1f%%\", shadow=True, startangle=90, legend=False)\n",
    "plt.axis(\"off\")\n",
    "plt.title(f\"Distribution of Female and Male Mice\")\n",
    "plt.show()"
   ]
  },
  {
   "cell_type": "code",
   "execution_count": null,
   "metadata": {},
   "outputs": [],
   "source": [
    "# Generate a pie plot showing the distribution of female versus male mice using pyplot\n",
    "labels = gender_df.index\n",
    "counts = gender_df[\"Sex\"]\n",
    "\n",
    "plt.pie(counts, explode=explode, labels=labels, colors=colors, autopct=\"%1.1f%%\", shadow=True, startangle=90)\n",
    "\n",
    "plt.axis(\"off\")\n",
    "plt.title(f\"Distribution of Female and Male Mice\")\n",
    "plt.show()\n"
   ]
  },
  {
   "cell_type": "markdown",
   "metadata": {},
   "source": [
    "## Quartiles, Outliers and Boxplots"
   ]
  },
  {
   "cell_type": "code",
   "execution_count": null,
   "metadata": {},
   "outputs": [],
   "source": [
    "# Calculate the final tumor volume of each mouse across four of the treatment regimens:  \n",
    "# Capomulin, Ramicane, Infubinol, and Ceftamin\n",
    "\n",
    "regimen_results_df = mouse_results_df.loc[(mouse_results_df[\"Drug Regimen\"]==\"Capomulin\") \n",
    "                                          | (mouse_results_df[\"Drug Regimen\"]==\"Ramicane\")\n",
    "                                          | (mouse_results_df[\"Drug Regimen\"]==\"Infubinol\")\n",
    "                                          | (mouse_results_df[\"Drug Regimen\"]==\"Ceftamin\")\n",
    "                                          ,:]\n",
    "\n",
    "# Start by getting the last (greatest) timepoint for each mouse\n",
    "regimen_group = regimen_results_df.groupby([\"Mouse ID\"])\n",
    "regimen_group_df = pd.DataFrame(regimen_group[\"Timepoint\"].max())\n",
    "\n",
    "# Merge this group df with the original dataframe to get the tumor volume at the last timepoint\n",
    "regimen_results_df = regimen_results_df.merge(regimen_group_df, how=\"inner\", on=[\"Mouse ID\", \"Timepoint\"])\n",
    "\n",
    "regimen_results_df\n"
   ]
  },
  {
   "cell_type": "code",
   "execution_count": null,
   "metadata": {},
   "outputs": [],
   "source": [
    "# Put treatments into a list for for loop (and later for plot labels)\n",
    "treatments = regimen_results_df[\"Drug Regimen\"].unique()\n",
    "\n",
    "# Create empty list to fill with tumor vol data (for plotting)\n",
    "tumor_volume = []\n",
    "tumor_volumes = []\n",
    "ticks = []\n",
    "tick = 0\n",
    "\n",
    "# Calculate the IQR and quantitatively determine if there are any potential outliers. \n",
    "for treatment in treatments:\n",
    "    tick += 1\n",
    "    ticks.append(tick)\n",
    "\n",
    "    # Locate the rows which contain mice on each drug and get the tumor volumes\n",
    "    treatment_df = regimen_results_df.loc[regimen_results_df[\"Drug Regimen\"]==treatment, :]\n",
    "    tumor_volume = treatment_df[\"Tumor Volume (mm3)\"]\n",
    "   \n",
    "    # add subset \n",
    "    tumor_volumes.append(tumor_volume)\n",
    "    \n",
    "    #Calculte Quartiles and IQR\n",
    "    quartiles = tumor_volume.quantile([.25, .5, .75])\n",
    "    lowerq = quartiles[0.25]\n",
    "    upperq = quartiles[0.75]\n",
    "    iqr = upperq-lowerq   \n",
    "    \n",
    "    # Determine outliers using upper and lower bounds\n",
    "    lower_bound = lowerq - (1.5*iqr)\n",
    "    upper_bound = upperq + (1.5*iqr)\n",
    "\n",
    "    #Print Calculations for each treatment    \n",
    "    print(f\"{treatment} treatment results:\")\n",
    "    print(f\"  The lower quartile of tumor volumes is: {lowerq}\")\n",
    "    print(f\"  The upper quartile of tumor volumes is: {upperq}\")\n",
    "    print(f\"  The interquartile range of tumor volumes is: {iqr}\")\n",
    "    print(f\"  The median of tumor volumes is: {quartiles[0.5]}\")\n",
    "    print()\n",
    "    print(f\"  Values below {lower_bound} could be outliers.\")\n",
    "    print(f\"  Values above {upper_bound} could be outliers.\")\n",
    "    print()\n",
    "    print()\n",
    "\n",
    "    "
   ]
  },
  {
   "cell_type": "code",
   "execution_count": null,
   "metadata": {},
   "outputs": [],
   "source": [
    "# Generate a box plot of the final tumor volume of each mouse across four regimens of interest\n",
    "fig1, ax1 = plt.subplots()\n",
    "ax1.set_title(f'Final Tumor Volumes\\nAcross Four Drug Regimens')\n",
    "ax1.set_ylabel('Final Tumor Volume (mm3)')\n",
    "\n",
    "flierprops = dict(marker='o', markerfacecolor='r', linestyle='none', markersize=10)\n",
    "ax1.boxplot(tumor_volumes, flierprops=flierprops)\n",
    "plt.xticks(ticks,treatments)\n",
    "plt.show()\n"
   ]
  },
  {
   "cell_type": "markdown",
   "metadata": {},
   "source": [
    "## Line and Scatter Plots"
   ]
  },
  {
   "cell_type": "code",
   "execution_count": null,
   "metadata": {},
   "outputs": [],
   "source": [
    "# Generate a line plot of tumor volume vs. time point for a mouse treated with Capomulin\n",
    "capomulin_results_df = mouse_results_df.loc[(mouse_results_df[\"Drug Regimen\"]==\"Capomulin\"),:]\n",
    "\n",
    "#identify a mouse treated with capomulin\n",
    "capomulin_mouse = capomulin_results_df[\"Mouse ID\"].unique()[0]\n",
    "\n",
    "capomulin_mouse_results_df = mouse_results_df.loc[(mouse_results_df[\"Mouse ID\"]==capomulin_mouse),:]\n",
    "\n",
    "x_axis = capomulin_mouse_results_df[\"Timepoint\"]\n",
    "y_axis = capomulin_mouse_results_df[\"Tumor Volume (mm3)\"]\n",
    "\n",
    "plt.plot(x_axis, y_axis)\n",
    "plt.ylabel(\"Tumor Volume (mm3)\")\n",
    "plt.xlabel(\"Timepoint\")\n",
    "plt.title(f\"Capomulin Regimen: {capomulin_mouse}\\nAverage Tumor Volume VS. Timepoint\")\n",
    "plt.show()"
   ]
  },
  {
   "cell_type": "code",
   "execution_count": null,
   "metadata": {},
   "outputs": [],
   "source": [
    "# Generate a scatter plot of average tumor volume vs. mouse weight for the Capomulin regimen\n",
    "capomulin_group = capomulin_results_df.groupby([\"Mouse ID\"])\n",
    "\n",
    "capomulin_mean_df = pd.DataFrame(capomulin_group[\"Tumor Volume (mm3)\"].mean())\n",
    "capomulin_weight_df = pd.DataFrame(capomulin_group[\"Weight (g)\"].max())\n",
    "\n",
    "capomulin_summary_df = capomulin_mean_df.merge(capomulin_weight_df, how=\"inner\", on=\"Mouse ID\")\n",
    "\n",
    "x_axis = capomulin_summary_df[\"Weight (g)\"]\n",
    "y_axis= capomulin_summary_df[\"Tumor Volume (mm3)\"]\n",
    "\n",
    "plt.scatter(x_axis, y_axis)\n",
    "plt.xlabel('Weight (g)')\n",
    "plt.ylabel('Tumor Volume (mm3)')\n",
    "plt.title(\"Capomulin Regimen \\n Average Tumor Volume VS. Mouse Weight\")\n",
    "plt.show()"
   ]
  },
  {
   "cell_type": "markdown",
   "metadata": {},
   "source": [
    "## Correlation and Regression"
   ]
  },
  {
   "cell_type": "code",
   "execution_count": null,
   "metadata": {},
   "outputs": [],
   "source": [
    "# Calculate the correlation coefficient \n",
    "# for mouse weight and average tumor volume for the Capomulin regimen\n",
    "\n",
    "print(f\"The correlation coefficient between Tumor Volume and Weight is {round(st.pearsonr(x_axis,y_axis)[0],2)}\")"
   ]
  },
  {
   "cell_type": "code",
   "execution_count": null,
   "metadata": {},
   "outputs": [],
   "source": [
    "#Linear regression model \n",
    "# for mouse weight and average tumor volume for the Capomulin regimen\n",
    "(slope, intercept, rvalue, pvalue, stderr) = st.linregress(x_axis, y_axis)\n",
    "\n",
    "#y=mx+b\n",
    "regress_values = x_axis * slope + intercept\n",
    "line_eq = f\"y = {slope:.2f}x + {intercept:.2f}\"\n",
    "\n",
    "plt.scatter(x_axis, y_axis)\n",
    "plt.plot(x_axis,regress_values,\"r-\")\n",
    "plt.annotate(line_eq,(19,36),fontsize=15,color=\"red\")\n",
    "\n",
    "plt.xlabel('Weight (g)')\n",
    "plt.ylabel('Tumor Volume (mm3)')\n",
    "plt.title(\"Capomulin Regimen \\n Average Tumor Volume VS. Mouse Weight\")\n",
    "plt.show()"
   ]
  }
 ],
 "metadata": {
  "anaconda-cloud": {},
  "kernelspec": {
   "display_name": "Python 3",
   "language": "python",
   "name": "python3"
  },
  "language_info": {
   "codemirror_mode": {
    "name": "ipython",
    "version": 3
   },
   "file_extension": ".py",
   "mimetype": "text/x-python",
   "name": "python",
   "nbconvert_exporter": "python",
   "pygments_lexer": "ipython3",
   "version": "3.6.10"
  }
 },
 "nbformat": 4,
 "nbformat_minor": 4
}
